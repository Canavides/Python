{
  "cells": [
    {
      "cell_type": "markdown",
      "metadata": {
        "id": "ZhoaEmNOu-qs"
      },
      "source": [
        "Ejercicios Prácticos de \"Tipo de Datos Simples\""
      ]
    },
    {
      "cell_type": "code",
      "execution_count": null,
      "metadata": {
        "colab": {
          "base_uri": "https://localhost:8080/"
        },
        "id": "qakJjBeMvNW5",
        "outputId": "edcd3aca-b753-4316-fe33-142d7158a7d5"
      },
      "outputs": [
        {
          "name": "stdout",
          "output_type": "stream",
          "text": [
            "Ingrese el coste por hora: 800\n",
            "Ingrese la cantidad de horas trabajadas: 20\n",
            "Su paga es de: 16000\n"
          ]
        }
      ],
      "source": [
        "#Ejercicio N° 1\n",
        "coste_hora= int(input(\"Ingrese el coste por hora: \"))\n",
        "horas_trabajadas= int(input(\"Ingrese la cantidad de horas trabajadas: \"))\n",
        "paga = coste_hora * horas_trabajadas\n",
        "print(\"Su paga es de:\", paga )"
      ]
    },
    {
      "cell_type": "code",
      "execution_count": null,
      "metadata": {
        "id": "iHtfvoNlyYHw"
      },
      "outputs": [],
      "source": [
        "#Ejercicio N°2\n",
        "n = int(input(\"Ingrese un número entero positivo: \"))\n",
        "suma = n * (n+1) / 2\n",
        "print(\"La suma de los primeros numeros desde 1 hasta:\", n, \"es de: \", suma)"
      ]
    },
    {
      "cell_type": "code",
      "execution_count": null,
      "metadata": {
        "colab": {
          "base_uri": "https://localhost:8080/"
        },
        "id": "lH7ZFP9kFk7E",
        "outputId": "c9e747fa-3f20-4e24-a3d7-f5b7a1599edf"
      },
      "outputs": [
        {
          "name": "stdout",
          "output_type": "stream",
          "text": [
            "Ingrese su peso actual: 68\n",
            "Ingrese su altura en metros: 1.65\n",
            "Su índice de masa corporal es de:  24.98\n"
          ]
        }
      ],
      "source": [
        "# Ejercicio N° 3\n",
        "peso  = float(input(\"Ingrese su peso actual: \"))\n",
        "altura = float (input(\"Ingrese su altura en metros: \"))\n",
        "imc = peso / (altura**2)\n",
        "print(\"Su índice de masa corporal es de: \", round (imc, 2))"
      ]
    },
    {
      "cell_type": "code",
      "execution_count": null,
      "metadata": {
        "colab": {
          "base_uri": "https://localhost:8080/"
        },
        "id": "EuEB9_jawz94",
        "outputId": "9396a99a-e9f0-4e78-c95a-7314a5b73e9b"
      },
      "outputs": [
        {
          "name": "stdout",
          "output_type": "stream",
          "text": [
            "Ingrese la cantidad de dinero a invertir: 456.890\n",
            "Ingrese el interés anual: 1.2\n",
            "Ingrese los años de inversión:4\n",
            "El capital obtenido es de:  479.218640457751\n"
          ]
        }
      ],
      "source": [
        "#Ejercicio N°4\n",
        "inversion = float(input(\"Ingrese la cantidad de dinero a invertir: \"))\n",
        "interes_anual = float(input(\"Ingrese el interés anual: \"))\n",
        "años_inv = float(input(\"Ingrese los años de inversión:\"))\n",
        "capital_final= (inversion *(1+ interes_anual / 100)** años_inv)\n",
        "print(\"El capital obtenido es de: \", capital_final)\n"
      ]
    },
    {
      "cell_type": "code",
      "execution_count": null,
      "metadata": {
        "colab": {
          "base_uri": "https://localhost:8080/"
        },
        "id": "JlZVsvytOew2",
        "outputId": "851701fc-07bd-42d4-f93c-b47a56c04386"
      },
      "outputs": [
        {
          "name": "stdout",
          "output_type": "stream",
          "text": [
            "Ingrese la cantidad de dinero depositado: 200000\n",
            "El dinero disponible  durante el primer año es de:  208000.0\n",
            "El dinero disponible durante el segundo año es de:  216320.0\n",
            "El dinero disponible durante el tercer año es de: 224972.8\n"
          ]
        }
      ],
      "source": [
        "#Ejercicio N° 5\n",
        "dinero_depositado = int(input(\"Ingrese la cantidad de dinero depositado: \"))\n",
        "interes_anual = 4\n",
        "primer_año = (dinero_depositado*(1 + interes_anual/ 100)**1)\n",
        "segundo_año = (dinero_depositado*(1+ interes_anual/ 100)**2)\n",
        "tercer_año = (dinero_depositado*(1+ interes_anual/ 100)**3)\n",
        "print(\"El dinero disponible  durante el primer año es de: \", round(primer_año,2)) \n",
        "print(\"El dinero disponible durante el segundo año es de: \", round(segundo_año,2))\n",
        "print(\"El dinero disponible durante el tercer año es de:\", round(tercer_año, 2))"
      ]
    },
    {
      "cell_type": "code",
      "execution_count": null,
      "metadata": {
        "colab": {
          "base_uri": "https://localhost:8080/"
        },
        "id": "Zl7JN73HOfwd",
        "outputId": "f540ec82-db5c-499e-d418-eaa57fb99cc9"
      },
      "outputs": [
        {
          "name": "stdout",
          "output_type": "stream",
          "text": [
            "Ingrese la cantidad de autos vendidos en el último pedido: 2\n",
            "Ingrese la cantidad de muñecas vendidas en el último pedido: 1\n",
            "El peso total del paquete que será enviado sera de:  675 gramos\n"
          ]
        }
      ],
      "source": [
        "#Ejercicio N°6\n",
        "autos_vendidos = int(input(\"Ingrese la cantidad de autos vendidos en el último pedido: \"))\n",
        "muñecas_vendidas= int(input(\"Ingrese la cantidad de muñecas vendidas en el último pedido: \"))\n",
        "autos_peso= (autos_vendidos * 300)\n",
        "muñecas_peso= (muñecas_vendidas * 75)\n",
        "peso_total = autos_peso + muñecas_peso\n",
        "\n",
        "print(\"El peso total del paquete que será enviado sera de: \",peso_total,\"gramos\" )"
      ]
    },
    {
      "cell_type": "markdown",
      "metadata": {
        "id": "wyOgNB1xmMrk"
      },
      "source": [
        "**Ejercicios** Prácticos de \"Tipo Cadena\""
      ]
    },
    {
      "cell_type": "code",
      "execution_count": null,
      "metadata": {
        "id": "uwgYTgVvmaRd",
        "colab": {
          "base_uri": "https://localhost:8080/"
        },
        "outputId": "67d0b206-07ac-405a-c4bd-80508cefb925"
      },
      "outputs": [
        {
          "output_type": "stream",
          "name": "stdout",
          "text": [
            "Ingrese su nombre: carla\n",
            "Ingrese la cantidad de repeticiones que desea: 5\n",
            "carlacarlacarlacarlacarla\n"
          ]
        }
      ],
      "source": [
        "#Ejercicio 1\n",
        "nombre = input(\"Ingrese su nombre: \")\n",
        "repeticiones = int(input(\"Ingrese la cantidad de repeticiones que desea: \"))\n",
        "n = nombre  * repeticiones\n",
        "print(n.replace(',', '\\n'))"
      ]
    },
    {
      "cell_type": "code",
      "execution_count": null,
      "metadata": {
        "colab": {
          "base_uri": "https://localhost:8080/"
        },
        "id": "W2v8-BzCyJ_3",
        "outputId": "d1af5b0c-440f-4402-f8b6-e1598029cb83"
      },
      "outputs": [
        {
          "output_type": "stream",
          "name": "stdout",
          "text": [
            "Ingrese su nombre completo: carla canavides\n",
            "CARLA CANAVIDES\n",
            "carla canavides\n",
            "Carla canavides\n",
            "Carla Canavides\n"
          ]
        }
      ],
      "source": [
        "#Ejercicio 2\n",
        "nombre = input(\"Ingrese su nombre completo: \")\n",
        "print(nombre.upper())\n",
        "print(nombre.lower())\n",
        "print(nombre.capitalize())\n",
        "print(nombre.title())\n"
      ]
    },
    {
      "cell_type": "code",
      "execution_count": null,
      "metadata": {
        "id": "HQBGXRC1_K59",
        "colab": {
          "base_uri": "https://localhost:8080/"
        },
        "outputId": "951b50fb-d93c-4492-f4ad-266190bf3089"
      },
      "outputs": [
        {
          "output_type": "stream",
          "name": "stdout",
          "text": [
            "Ingrese el número de teléfono con el siguiente formato prefijo-número-extensión: +54-983724710-56\n",
            "El número de teléfono es  983724710\n"
          ]
        }
      ],
      "source": [
        "#Ejercicio N°3\n",
        "num_tel = input(\"Ingrese el número de teléfono con el siguiente formato prefijo-número-extensión: \")\n",
        "print('El número de teléfono es ', num_tel[4:-3])\n"
      ]
    },
    {
      "cell_type": "code",
      "source": [
        "#Ejercicio N° 4\n",
        "frase = input(\"Ingrese una frase: \")\n",
        "frase = frase[::-1]\n",
        "print (frase)\n"
      ],
      "metadata": {
        "colab": {
          "base_uri": "https://localhost:8080/"
        },
        "id": "tF7-i7ex-h9n",
        "outputId": "0cbe073a-ee40-42d6-ed6e-dad8198e94cb"
      },
      "execution_count": null,
      "outputs": [
        {
          "output_type": "stream",
          "name": "stdout",
          "text": [
            "Ingrese una frase: hola carla\n",
            "alrac aloh\n"
          ]
        }
      ]
    },
    {
      "cell_type": "code",
      "source": [
        "#Ejercicio N° 5\n",
        "fecha_nacimiento = input(\"Ingrese su fecha de nacimiento con el siguiente formato dd/mm/aaaa: \")\n",
        "dia = fecha_nacimiento[:fecha_nacimiento.find('/')]\n",
        "mesaño = fecha_nacimiento[fecha_nacimiento.find('/')+1:]\n",
        "mes = mesaño[:mesaño.find('/')]\n",
        "año = mesaño[mesaño.find('/')+1:]\n",
        "print('/', dia,'/', mes,'/', año)"
      ],
      "metadata": {
        "colab": {
          "base_uri": "https://localhost:8080/"
        },
        "id": "qP6JrTYqDrNd",
        "outputId": "cade9054-21f5-4ba6-ef44-d83294fc8d3f"
      },
      "execution_count": null,
      "outputs": [
        {
          "output_type": "stream",
          "name": "stdout",
          "text": [
            "Ingrese su fecha de nacimiento con el siguiente formato: dd/mm/aaaa 3/ 5/ 90\n",
            "/ 3 /  5 /  90\n"
          ]
        }
      ]
    },
    {
      "cell_type": "code",
      "source": [
        "#Ejercicio N° 6\n",
        "productos = input(\"Ingrese los productos de su compra separados por comas: \")\n",
        "print(productos.replace(',','\\n'))\n"
      ],
      "metadata": {
        "colab": {
          "base_uri": "https://localhost:8080/"
        },
        "id": "YTtcpjieK_-x",
        "outputId": "57e824da-325c-4d84-ea57-2de0588caa3c"
      },
      "execution_count": null,
      "outputs": [
        {
          "output_type": "stream",
          "name": "stdout",
          "text": [
            "Ingrese los productos de su compra separados por comas: lavandina, detergente, desodorante\n",
            "lavandina\n",
            " detergente\n",
            " desodorante\n"
          ]
        }
      ]
    },
    {
      "cell_type": "code",
      "source": [
        "#Ejercicio N° 7\n",
        "nombre_producto= input(\"Ingrese el nombre del producto: \")\n",
        "precio_unitario= float(input(\"Ingrese el precio del producto: \"))\n",
        "cantidad = int(input(\"Ingrese el número de unidades: \"))\n",
        "costo_total = precio_unitario * cantidad\n",
        "print ({nombre_producto},{precio_unitario},{cantidad},\"=\", {costo_total})"
      ],
      "metadata": {
        "colab": {
          "base_uri": "https://localhost:8080/"
        },
        "id": "hPSB2RvyLwNW",
        "outputId": "cabe724e-0b26-4942-ff51-3fd34e011ab4"
      },
      "execution_count": null,
      "outputs": [
        {
          "output_type": "stream",
          "name": "stdout",
          "text": [
            "Ingrese el nombre del producto: Notebook Lenovo\n",
            "Ingrese el precio del producto: 234567.89\n",
            "Ingrese el número de unidades: 345\n",
            "{'Notebook Lenovo'} {234567.89} {345} = {80925922.05000001}\n"
          ]
        }
      ]
    },
    {
      "cell_type": "markdown",
      "source": [
        "\"Ejercicios Prácticos de tipo Condicional\""
      ],
      "metadata": {
        "id": "GiRFgzBEUbq1"
      }
    },
    {
      "cell_type": "markdown",
      "source": [
        "1. Escribir un programa que pregunte al usuario su edad y muestre por pantalla si es mayor de edad o no."
      ],
      "metadata": {
        "id": "pnvA0p1jUlVO"
      }
    },
    {
      "cell_type": "code",
      "source": [
        "edad= int(input(\"Ingrese su edad: \"))\n",
        "if edad >= 18:\n",
        "  print(\"Usted es mayor de edad\")\n",
        "else:\n",
        "  print(\"Usted no es mayor de edad\")"
      ],
      "metadata": {
        "colab": {
          "base_uri": "https://localhost:8080/"
        },
        "id": "f6HSBAWYVgpT",
        "outputId": "3747dee3-4627-4d04-a987-00504c0f9a86"
      },
      "execution_count": null,
      "outputs": [
        {
          "output_type": "stream",
          "name": "stdout",
          "text": [
            "Ingrese su edad: 15\n",
            "Usted no es mayor de edad\n"
          ]
        }
      ]
    },
    {
      "cell_type": "markdown",
      "source": [
        "2. Escribir un programa que pida al usuario dos números y muestre por pantalla su división. Si el divisor es\n",
        "cero el programa debe mostrar un error."
      ],
      "metadata": {
        "id": "9I5uPLCRUrO4"
      }
    },
    {
      "cell_type": "code",
      "source": [
        "num_uno = int(input(\"Ingrese el primer número: \"))\n",
        "num_dos = int(input(\"Ingrese el segundo número: \"))\n",
        "if num_dos == 0:\n",
        "  print(\"¡Error! : No se puede dividir entre 0\")\n",
        "else:\n",
        "  print(num_uno / num_dos)"
      ],
      "metadata": {
        "colab": {
          "base_uri": "https://localhost:8080/"
        },
        "id": "BOQFwpbBWdyB",
        "outputId": "87568383-fecd-49c8-f7f4-c900f94f2d24"
      },
      "execution_count": null,
      "outputs": [
        {
          "output_type": "stream",
          "name": "stdout",
          "text": [
            "Ingrese el primer número: 345\n",
            "Ingrese el segundo número: 0\n",
            "¡Error! : No se puede dividir entre 0\n"
          ]
        }
      ]
    },
    {
      "cell_type": "markdown",
      "source": [
        "3. Para tributar un determinado impuesto se debe ser mayor de 18 años y tener unos ingresos iguales o\n",
        "superiores a $450.000 mensuales. Escribir un programa que pregunte al usuario su edad y sus ingresos\n",
        "mensuales y muestre por pantalla si el usuario tiene que tributar o no."
      ],
      "metadata": {
        "id": "MWW63Uc4Uw4O"
      }
    },
    {
      "cell_type": "code",
      "source": [
        "edad= int(input(\"Ingrese su edad: \"))\n",
        "ingreso_mensual = float(input(\"Por favor introduzca su ingreso mensual: \"))\n",
        "if ingreso_mensual >= 450.000 and edad >= 18:\n",
        "  print(\"Usted puede tributar\")\n",
        "else:\n",
        "  print(\"Usted no puede tributar\")"
      ],
      "metadata": {
        "colab": {
          "base_uri": "https://localhost:8080/"
        },
        "id": "xT_QhCXRZKF6",
        "outputId": "8629dc38-a848-41ee-aede-bed63b67a5db"
      },
      "execution_count": null,
      "outputs": [
        {
          "output_type": "stream",
          "name": "stdout",
          "text": [
            "Ingrese su edad: 17\n",
            "Por favor introduzca su ingreso mensual: 245.000\n",
            "Usted no puede tributar\n"
          ]
        }
      ]
    },
    {
      "cell_type": "markdown",
      "source": [
        "4.Los alumnos de un curso se han dividido en dos grupos A y B de acuerdo al sexo y el nombre. El grupo A\n",
        "esta formado por las mujeres con un nombre anterior a la M y los hombres con un nombre posterior a la N y\n",
        "el grupo B por el resto. Escribir un programa que pregunte al usuario su nombre y sexo, y muestre por\n",
        "pantalla el grupo que le corresponde."
      ],
      "metadata": {
        "id": "oLsEl4OvU32m"
      }
    },
    {
      "cell_type": "code",
      "source": [
        "nombre= input(\"Ingrese su nombre: \")\n",
        "sexo= input(\"¿Cuál es su sexo (M o H)? : \")\n",
        "if sexo == \"M\":\n",
        "    if nombre < \"m\":\n",
        "        groupo = \"A\"\n",
        "    else:\n",
        "        groupo = \"B\"\n",
        "else:\n",
        "    if nombre > \"n\":\n",
        "        groupo = \"A\"\n",
        "    else:\n",
        "        groupo = \"B\"\n",
        "print(\"Tu grupo es \" + groupo)"
      ],
      "metadata": {
        "colab": {
          "base_uri": "https://localhost:8080/"
        },
        "id": "xchXh-eea2F3",
        "outputId": "998b78d9-1a7e-4ec0-d84a-886488a7fd9d"
      },
      "execution_count": null,
      "outputs": [
        {
          "output_type": "stream",
          "name": "stdout",
          "text": [
            "Ingrese su nombre: Robert\n",
            "¿Cuál es su sexo (M o H)? : Hombre\n",
            "Tu grupo es B\n"
          ]
        }
      ]
    },
    {
      "cell_type": "markdown",
      "source": [
        "5. La pizzería “Nino” ofrece pizzas vegetarianas y no vegetarianas a sus clientes. Los ingredientes para\n",
        "cada tipo de pizza aparecen a continuación.\n",
        "•Ingredientes vegetarianos: Pimiento y tofu.\n",
        "•Ingredientes no vegetarianos: Peperoni, Jamón y Salmón.\n",
        "Escribir un programa que pregunte al usuario si quiere una pizza vegetariana o no, y en función de su\n",
        "respuesta le muestre un menú con los ingredientes disponibles para que elija. Solo se puede eligir un\n",
        "ingrediente además de la mozzarella y el tomate que están en todas la pizzas. Al final se debe mostrar por\n",
        "pantalla si la pizza elegida es vegetariana o no y todos los ingredientes que lleva."
      ],
      "metadata": {
        "id": "urRaK2lTVBWk"
      }
    },
    {
      "cell_type": "code",
      "source": [
        "print (\"Hola, Bienvenid@ a PIZZERIA WILLY.¿Qué desea ordenar?\")\n",
        "opcion = input(\"1. Vegetariana\\n2. Otra \\nElija una opción \")\n",
        "if opcion==\"1\":\n",
        "\tingrediente= input(\"¿Que quiere en su pizza vegetariana?\\n1. pimiento\\n2. tofu\\nElija una opción \")\n",
        "if ingrediente== \"1\":\n",
        "\t print(\"Su pizza vegetariana lleva pimiento, tomate y mozzarella.\")\n",
        "elif ingrediente == \"2\":\n",
        "\tprint (\"Su pizza vegetariana lleva tofu, tomate y mozzarella.\")\n",
        " \n",
        "opcion= input(\"1. Vegetariana\\n2. Otra \\)nElija una opción\")\n",
        "if opcion == \"2\":\n",
        "\tingrediente = input(\"¿Que quiere su pizza? n1. peperoni\\n2. jamon y salmon\\nElija una opción \")\n",
        "if ingrediente== \"1\":\n",
        "\t\tprint (\"Su pizza lleva jamon, tomate y mozzarella\")\n",
        "elif ingrediente== \"2\":\n",
        "\t\tprint(\"Su hamburguesa lleva jamon y salmon, tomate y mozzarella\")\n",
        "else:\n",
        "\t\tprint(\"Debe elegir 1 o 2\")\n",
        "\n",
        "\n"
      ],
      "metadata": {
        "colab": {
          "base_uri": "https://localhost:8080/"
        },
        "id": "ROP-Sh98dVNl",
        "outputId": "ce1d5b57-a581-478f-cbcf-4cde4941a5a6"
      },
      "execution_count": null,
      "outputs": [
        {
          "output_type": "stream",
          "name": "stdout",
          "text": [
            "Hola, Bienvenid@ a PIZZERIA WILLY.¿Qué desea ordenar?\n",
            "1. Vegetariana\n",
            "2. Otra \n",
            "Elija una opción 1\n",
            "¿Que quiere en su pizza vegetariana?\n",
            "1. pimiento\n",
            "2. tofu\n",
            "Elija una opción 1\n",
            "Su pizza vegetariana lleva pimiento, tomate y mozzarella.\n",
            "1. Vegetariana\n",
            "2. Otra \\)nElija una opción2\n",
            "¿Que quiere su pizza? n1. peperoni\n",
            "2. jamon y salmon\n",
            "Elija una opción 1\n",
            "Su pizza lleva jamon, tomate y mozzarella\n"
          ]
        }
      ]
    },
    {
      "cell_type": "markdown",
      "source": [
        "6. Escribir un programa para una empresa que tiene salas de juegos para todas las edades y quiere calcular\n",
        "de forma automática el precio que debe cobrar a sus clientes por entrar. El programa debe preguntar al\n",
        "usuario la edad del cliente y mostrar el precio de la entrada. Si el cliente es menor de 4 años puede entrar\n",
        "gratis, si tiene entre 4 y 18 años debe pagar $500 y si es mayor de 18 años, $900."
      ],
      "metadata": {
        "id": "dFcO5h6wVJDr"
      }
    },
    {
      "cell_type": "code",
      "source": [
        "edad= int(input(\"Ingrese su edad: \"))\n",
        "precio_uno = 500\n",
        "precio_dos = 900\n",
        "if edad == 4 and edad <= 18:\n",
        "  print(\"Usted debe pagar: \",precio_uno)\n",
        "elif edad < 4:\n",
        "  print(\"Usted ingresa gratis\")\n",
        "else:\n",
        "  print(\"Usted debe pagar: \",precio_dos)\n",
        "\n"
      ],
      "metadata": {
        "colab": {
          "base_uri": "https://localhost:8080/"
        },
        "id": "ZwVWC2QWi3ir",
        "outputId": "c4079d4e-8f70-4a5b-bbc2-e24e0ef8bf95"
      },
      "execution_count": null,
      "outputs": [
        {
          "output_type": "stream",
          "name": "stdout",
          "text": [
            "Ingrese su edad: 78\n",
            "Usted debe pagar:  900\n"
          ]
        }
      ]
    },
    {
      "cell_type": "markdown",
      "source": [],
      "metadata": {
        "id": "dZzxUwR6U-DT"
      }
    }
  ],
  "metadata": {
    "colab": {
      "provenance": []
    },
    "kernelspec": {
      "display_name": "Python 3",
      "name": "python3"
    },
    "language_info": {
      "name": "python"
    }
  },
  "nbformat": 4,
  "nbformat_minor": 0
}