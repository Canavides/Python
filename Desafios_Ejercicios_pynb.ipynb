{
  "nbformat": 4,
  "nbformat_minor": 0,
  "metadata": {
    "colab": {
      "provenance": []
    },
    "kernelspec": {
      "name": "python3",
      "display_name": "Python 3"
    },
    "language_info": {
      "name": "python"
    }
  },
  "cells": [
    {
      "cell_type": "markdown",
      "source": [
        "Definir una función que reciba como parámetros dos números enteros y una lista de tuplas de dos\n",
        "componentes, donde cada tupla representa el nombre de una persona y su edad. Dicha función\n",
        "deberá devolver una lista donde figuren únicamente los nombres de las personas que tengan una\n",
        "edad comprendida entre los números recibidos por parámetro.\n",
        "La función debe incluir el correspondiente docstring.\n",
        "Por ejemplo, para los parámetros 21,32 y la lista de\n",
        "tuplas [(\"Luis\",18),(\"Pedro\",32),(\"Juan\",30),(\"Marta\",21),(\"Juliana\",35)], la función debería\n",
        "devovler [\"Pedro\",\"Juan\",\"Marta\"].\n",
        "\n",
        "● La función deberá tener el siguiente nombre: personas_entre(edad1,edad2,lista)"
      ],
      "metadata": {
        "id": "SxgdANkv6RVq"
      }
    },
    {
      "cell_type": "code",
      "source": [
        "def personas_entre(edad1, edad2, lista):\n",
        "  \"\"\"Funcion que busca personas cuya edad se encuentra dentro del intervalo edad1 y edad2.\"\"\"\n",
        "  personas= []\n",
        "  for persona in lista:\n",
        "    if persona[1] >= edad1 and persona[1]<=edad2:\n",
        "      personas.append(persona[0])\n",
        "  return personas\n",
        "\n",
        "print(personas_entre(21,32,[(\"Luis\",18),(\"Pedro\",32),(\"Juan\",30),(\"Marta\",21),(\"Juliana\",35)]))"
      ],
      "metadata": {
        "colab": {
          "base_uri": "https://localhost:8080/"
        },
        "id": "LYHmddyd6fOR",
        "outputId": "0bd33262-6de2-47e0-ac55-8abcf228edb1"
      },
      "execution_count": null,
      "outputs": [
        {
          "output_type": "stream",
          "name": "stdout",
          "text": [
            "['Pedro', 'Juan', 'Marta']\n"
          ]
        }
      ]
    },
    {
      "cell_type": "markdown",
      "source": [
        "Definir una función que recibe una cadena por parámetro, la cual representa una oración; la\n",
        "función debe determinar la cantidad de caracteres no alfabéticos (es decir, los número, símbolos,\n",
        "signos de puntuación, espacios en blanco, etc).\n",
        "La función debe incluir el correspondiente docstring.\n",
        "Por ejemplo, para la cadena \"6 horas, 1 minuto, ascención derecha, 14 grados, declinación 23\n",
        "minutos... no hay cuerpos.\" devolveremos 27.\n",
        "\n",
        "● Consideración: las palabras dentro de la oración recibida se encuentre separadas por un espacio en blanco (el caracter \" \").\n",
        "\n",
        "● Ayuda: el método split te será de utilidad para separar cada palabra de la oración.\n",
        "\n",
        "● Ayuda: el método isalpha determina si una cadena esta conformada únicamente por caracteres alfabéticos.\n",
        "\n",
        "● La función deberá tener el siguiente nombre: cant_no_alfa"
      ],
      "metadata": {
        "id": "tHrM0C6m6f5-"
      }
    },
    {
      "cell_type": "code",
      "source": [
        "def cant_no_alfa(cadena):\n",
        "  \"\"\" Función que devuelve la cantidad de caracteres no alfabeticos de una cadena.\"\"\"\n",
        "  cantidad = 0\n",
        "  cadena = cadena.lower()\n",
        "  cadena = cadena.replace (\"á\", \"a\")\n",
        "  cadena = cadena.replace (\"é\", \"e\")\n",
        "  cadena = cadena.replace (\"í\", \"i\")\n",
        "  cadena = cadena.replace (\"ó\", \"o\")\n",
        "  cadena = cadena.replace (\"ú\", \"u\")\n",
        "  for letra in cadena:\n",
        "    if letra not in \"abcdefghijklmnopqrstuvwxyz\":\n",
        "      cantidad = cantidad + 1\n",
        "  return cantidad\n",
        "\n",
        "cant_no_alfa(\"6 horas, 1 minuto, ascención derecha, 14 grados, declinación 23 minutos... no hay cuerpos.\")"
      ],
      "metadata": {
        "id": "to-HTCWB6ux_",
        "colab": {
          "base_uri": "https://localhost:8080/"
        },
        "outputId": "29facbcc-ee78-4d55-aa57-ba11708833aa"
      },
      "execution_count": null,
      "outputs": [
        {
          "output_type": "execute_result",
          "data": {
            "text/plain": [
              "27"
            ]
          },
          "metadata": {},
          "execution_count": 1
        }
      ]
    },
    {
      "cell_type": "markdown",
      "source": [
        "Definir una función que reciba una lista de números enteros e invertir los dígitos y reemplazar\n",
        "todos los números que no sean capicuas.\n",
        "La función debe incluir el correspondiente docstring.\n",
        "\n",
        "Por ejemplo:\n",
        "\n",
        "● Si recibimos como parámetro la lista [121, 712, 219912, 3221, 41, 7, 101], la función\n",
        "debería reemplazar los números que no sean capicúa y como resultado la lista se vería\n",
        "modificada de la siguiente manera [121, 217, 219912, 1223, 14, 7, 101].\n",
        "\n",
        "● Ayuda: recordemos que Python tiene definidas dos operaciones para la división.\n",
        "La división entera emplea el operador // (nos permite conocer el cociente entre dos números enteros), mientras que la división real emplea el operador /.\n",
        "\n",
        "● Ayuda: recordemos también que el operador % permite conocer el resto de la división entre dos números.\n",
        "\n",
        "● La función deberá tener el siguiente nombre: reemplazar_no_capicuas(lista)"
      ],
      "metadata": {
        "id": "U2R7E3Nb6vV5"
      }
    },
    {
      "cell_type": "code",
      "source": [
        "def remplazar_no_capicuas(lista):\n",
        " \"\"\" Función que reemplaza los numero que no son capicuas.\"\"\" \n",
        " for num in range(len(lista)):\n",
        "        inv = str(lista[num])[::-1] \n",
        "        if int(inv) != lista[num]:\n",
        "           lista[num] = 0\n",
        " \n",
        "lista = [121, 712, 219912, 3221, 41, 7, 101]\n",
        "remplazar_no_capicuas(lista)\n",
        "print(lista)"
      ],
      "metadata": {
        "id": "IQtxuCgEYyQQ",
        "colab": {
          "base_uri": "https://localhost:8080/"
        },
        "outputId": "ce351760-1bfd-4ec3-b65f-41ac374d9e28"
      },
      "execution_count": null,
      "outputs": [
        {
          "output_type": "stream",
          "name": "stdout",
          "text": [
            "[121, 0, 219912, 0, 0, 7, 101]\n"
          ]
        }
      ]
    },
    {
      "cell_type": "markdown",
      "source": [
        "Definir una función que reciba una cadena como parámetro y devuelva la sumatoria de los carácteres numéricos que aparezcan en dicha cadena.\n",
        "La función debe incluir el correspondiente docstring.\n",
        "\n",
        "Por ejemplo, si la cadena pasada por parámetro es \"3 anillos para los reyes elfos que gobiernan bajo el cielo, 7 anillos para los señores enanos desde sus fortalezas de piedra, 9 para los reyes humanos condenados a morir, 1 para el señor oscuro desde su trono\n",
        "maldito\",  la función debería devolver 20.\n",
        "\n",
        "● Ayuda: el método isnumeric puede serte de utilidad, determina si una cadena esta conformada únicamente por caracteres numéricos. Es decir, devuelve True en caso afirmativo, y False en caso contrario.\n",
        "\n",
        "Por ejemplo, para cadena = \"1\" al emplear método cadena.isnumeric() devuelve True,\n",
        "mientras que para cadena = \"t\" al emplear método cadena.isnumeric() devuelve False.\n",
        "\n",
        "● La función deberá tener el siguiente nombre: sumatoria_caracteres_numericos(cadena)"
      ],
      "metadata": {
        "id": "MEi8SqHq6ysG"
      }
    },
    {
      "cell_type": "code",
      "source": [
        "def sumatoria_caracteres_numericos(cadena):\n",
        " \"\"\" Función que reciba una cadena como parámetro y devuelva la sumatoria de dichos carácteres numéricos que aparezcan en la cadena.\"\"\"\n",
        " suma = 0\n",
        " for caracter in cadena:\n",
        "   if caracter.isdigit():\n",
        "     suma += int(caracter)\n",
        " return suma\n",
        "\n",
        "cadena = '3 anillos para los reyes elfos que gobiernan bajo el cielo, 7 anillos para los señores enanos desde sus fortalezas de piedra, 9 para los reyes humanos condenados a morir, 1 para el señor oscuro desde su trono maldito' \n",
        "print(sumatoria_caracteres_numericos(cadena))"
      ],
      "metadata": {
        "colab": {
          "base_uri": "https://localhost:8080/"
        },
        "id": "ABDui9nXw2bd",
        "outputId": "06e82ecd-68c5-48b4-8367-d442daefa026"
      },
      "execution_count": null,
      "outputs": [
        {
          "output_type": "stream",
          "name": "stdout",
          "text": [
            "20\n"
          ]
        }
      ]
    },
    {
      "cell_type": "code",
      "source": [
        "#Opción 2\n",
        "def sumatoria_caracteres_numericos(cadena):\n",
        "    suma = 0\n",
        "    for caracter in cadena.lower():\n",
        "        if caracter in \"0123456789\":\n",
        "            suma = suma + int(caracter)\n",
        "    return suma\n",
        "\n",
        "print(sumatoria_caracteres_numericos(\"3 anillos para los reyes elfos que gobiernan bajo el cielo, 7 anillos para los señores enanos desde sus fortalezas de piedra, 9 para los reyes humanos condenados a morir, 1 para el señor oscuro desde su trono maldito\"))"
      ],
      "metadata": {
        "colab": {
          "base_uri": "https://localhost:8080/"
        },
        "id": "33-eYfW5EePS",
        "outputId": "52e56e7b-a4b9-47f0-a79d-0a69da9cc77e"
      },
      "execution_count": null,
      "outputs": [
        {
          "output_type": "stream",
          "name": "stdout",
          "text": [
            "20\n"
          ]
        }
      ]
    },
    {
      "cell_type": "markdown",
      "source": [
        "Definir una función que reciba 2 parámetros, el primero de ellos es un booleano y el segundo una\n",
        "lista de números enteros. La función deberá depurar dicha lista de números enteros, eliminando\n",
        "todos los números pares en caso de que el primer parámetro sea True y en caso contrario,\n",
        "cuando el primer parámetro sea False, serán eliminados los números impares que se encuentren\n",
        "en la lista.\n",
        "La función debe incluir el correspondiente docstring.\n",
        "Por ejemplo:\n",
        "\n",
        "● Si recibimos como primer parámetro True y la lista [11, 7, 21, 32, 41, 2, 40], la función\n",
        "debería eliminar los números pares y como resultado la lista se vería modificada de la\n",
        "siguiente manera [11, 7, 21, 41].\n",
        "\n",
        "● Si recibimos como primer parámetro False y la lista [11, 7, 21, 32, 41, 2, 40], la función debería eliminar los números impares y como resultado la lista se vería modificada de la siguiente manera [32, 2, 40]\n",
        "\n",
        "● La función deberá tener el siguiente nombre: depurar_numeros(par,lista)"
      ],
      "metadata": {
        "id": "eM70A7-J683n"
      }
    },
    {
      "cell_type": "code",
      "source": [
        "def depurar_numeros(booleano,lista):\n",
        "  \"\"\"Funcion que depura la lista de números enteros, eliminando todos los números pares e impares segun el parametro sea T o F.\"\"\"\n",
        "  if booleano:\n",
        "        for num in lista:\n",
        "          if num %2 == 0:\n",
        "            lista.remove(num)\n",
        "  else:\n",
        "      for num in lista:\n",
        "        if num %2 == 1:\n",
        "          lista.remove(num)\n",
        "  print(f\"\\n{lista}\")\n",
        "    \n",
        "lista_uno = [11, 7, 21, 32, 41, 2, 40]\n",
        "print(depurar_numeros(True, lista_uno))\n",
        "\n",
        "lista_dos = [11, 7, 21, 32, 41, 2, 40]\n",
        "print(depurar_numeros(False, lista_dos)) "
      ],
      "metadata": {
        "id": "6jTSpv3_8uwG",
        "colab": {
          "base_uri": "https://localhost:8080/"
        },
        "outputId": "da203d04-aeb2-49ac-fbff-0b1d66d53d91"
      },
      "execution_count": null,
      "outputs": [
        {
          "output_type": "stream",
          "name": "stdout",
          "text": [
            "\n",
            "[11, 7, 21, 41, 40]\n",
            "None\n",
            "\n",
            "[7, 32, 2, 40]\n",
            "None\n"
          ]
        }
      ]
    }
  ]
}